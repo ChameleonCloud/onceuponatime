{
 "cells": [
  {
   "cell_type": "code",
   "execution_count": 28,
   "metadata": {
    "collapsed": true
   },
   "outputs": [],
   "source": [
    "import datetime\n",
    "\n",
    "import playhouse.shortcuts as short\n",
    "\n",
    "import nova_models as nm"
   ]
  },
  {
   "cell_type": "code",
   "execution_count": 4,
   "metadata": {
    "collapsed": false
   },
   "outputs": [],
   "source": [
    "nm.database.connect()"
   ]
  },
  {
   "cell_type": "markdown",
   "metadata": {},
   "source": [
    "```\n",
    "SELECT \n",
    "    i.uuid,\n",
    "    i.memory_mb,\n",
    "    i.vcpus,\n",
    "    ia.created_at,\n",
    "    ia.id,\n",
    "    iae.event,\n",
    "    iae.start_time,\n",
    "    iae.finish_time,\n",
    "    iae.result\n",
    "FROM\n",
    "    nova.instances AS i,\n",
    "    nova.instance_actions AS ia,\n",
    "    nova.instance_actions_events AS iae\n",
    "WHERE\n",
    "    i.uuid = ia.instance_uuid\n",
    "        AND ia.id = iae.action_id\n",
    "\t\tAND ia.created_at > now()\n",
    "```"
   ]
  },
  {
   "cell_type": "code",
   "execution_count": 8,
   "metadata": {
    "collapsed": false
   },
   "outputs": [],
   "source": [
    "base = (nm.Instances\n",
    "     .select()\n",
    "     .join(nm.InstanceActions, on=(nm.Instances.uuid == nm.InstanceActions.instance_uuid))\n",
    "     .join(nm.InstanceActionsEvents, on=(nm.InstanceActions.id == nm.InstanceActionsEvents.action_id))\n",
    ")"
   ]
  },
  {
   "cell_type": "code",
   "execution_count": 42,
   "metadata": {
    "collapsed": false
   },
   "outputs": [
    {
     "data": {
      "text/plain": [
       "<class 'nova_models.InstanceActions'> SELECT `t1`.`id`, `t1`.`action`, `t1`.`created_at`, `t1`.`deleted`, `t1`.`deleted_at`, `t1`.`finish_time`, `t1`.`instance_uuid`, `t1`.`message`, `t1`.`project_id`, `t1`.`request_id`, `t1`.`start_time`, `t1`.`updated_at`, `t1`.`user_id` FROM `instance_actions` AS t1 INNER JOIN `instances` AS t2 ON (`t2`.`uuid` = `t1`.`instance_uuid`) INNER JOIN `instance_actions_events` AS t3 ON (`t1`.`id` = `t3`.`action_id`) []"
      ]
     },
     "execution_count": 42,
     "metadata": {},
     "output_type": "execute_result"
    }
   ],
   "source": [
    "base"
   ]
  },
  {
   "cell_type": "code",
   "execution_count": 41,
   "metadata": {
    "collapsed": false
   },
   "outputs": [
    {
     "data": {
      "text/plain": [
       "{'action': 'create',\n",
       " 'created_at': datetime.datetime(2015, 6, 17, 6, 58, 56),\n",
       " 'deleted': 0,\n",
       " 'deleted_at': None,\n",
       " 'finish_time': None,\n",
       " 'id': 3,\n",
       " 'instance_uuid': {'access_ip_v4': None,\n",
       "  'access_ip_v6': None,\n",
       "  'architecture': None,\n",
       "  'auto_disk_config': 0,\n",
       "  'availability_zone': None,\n",
       "  'cell_name': None,\n",
       "  'cleaned': 1,\n",
       "  'config_drive': '',\n",
       "  'created_at': datetime.datetime(2015, 6, 17, 6, 58, 56),\n",
       "  'default_ephemeral_device': None,\n",
       "  'default_swap_device': None,\n",
       "  'deleted': 3,\n",
       "  'deleted_at': datetime.datetime(2015, 6, 17, 7, 1, 16),\n",
       "  'disable_terminate': 0,\n",
       "  'display_description': 'wutt',\n",
       "  'display_name': 'wutt',\n",
       "  'ephemeral_gb': 0,\n",
       "  'ephemeral_key_uuid': None,\n",
       "  'host': '83dd550b-f109-483c-bf7e-3c9a0b71619d',\n",
       "  'hostname': 'wutt',\n",
       "  'id': 3,\n",
       "  'image_ref': '9a035456-f39f-4f2a-a3e0-091e07212db0',\n",
       "  'instance_type': 7,\n",
       "  'internal': None,\n",
       "  'kernel': '6762f71f-0c0d-475c-a718-7332e9532f82',\n",
       "  'key_data': 'ssh-rsa AAAAB3NzaC1yc2EAAAABIwAAAQEAo/PLU1xr1QvPkQXebWp082YzdI0Uru+WmTXU15e2OTTMxy/PIf3Ey63ZGKBCsiQ/PBRrz78W1gZJuhizjUrube/wQ+dBHrPTd2RXXTvWpM6BrM9LwY753U/krimRQBFWweoKS3TmlLRGoWsftHF3VKi7zAnudIzGql7dmM6GCMRNskno747JqMBQMKfcPq3sR5DOr6qg0J99S+ytgx7qaGwdmxLjL11esIblmVxtYENGMMQe+2VvYz+h+oJ69p6KIQgjz5NUhch3zO6Fga8q+Yny0CPxMFOZQxW/cFVT6p/eL0cc/s+NEFDBfN5AAOrpqApE/UgZ0VWGqY6FnwZBmQ== mpackard@vmmap01',\n",
       "  'key_name': 'mpackard',\n",
       "  'launch_index': 0,\n",
       "  'launched_at': None,\n",
       "  'launched_on': '83dd550b-f109-483c-bf7e-3c9a0b71619d',\n",
       "  'locked': 0,\n",
       "  'locked_by': None,\n",
       "  'memory_mb': 11264,\n",
       "  'node': '83dd550b-f109-483c-bf7e-3c9a0b71619d',\n",
       "  'os_type': None,\n",
       "  'power_state': 0,\n",
       "  'progress': 0,\n",
       "  'project': '975c0a94b784483a885f4503f70af655',\n",
       "  'ramdisk': 'c2d4ed29-fd29-43d8-96e3-8930bff351be',\n",
       "  'reservation': 'r-d2468rix',\n",
       "  'root_device_name': '/dev/sda',\n",
       "  'root_gb': 128,\n",
       "  'scheduled_at': None,\n",
       "  'shutdown_terminate': 0,\n",
       "  'task_state': None,\n",
       "  'terminated_at': datetime.datetime(2015, 6, 17, 7, 1, 16),\n",
       "  'updated_at': datetime.datetime(2015, 6, 17, 7, 1, 23),\n",
       "  'user': '26f4125255b440c291355fbb62d2fc76',\n",
       "  'user_data': None,\n",
       "  'uuid': '2cfd34a2-082b-48d9-884d-ddc58d3c8f1d',\n",
       "  'vcpus': 24,\n",
       "  'vm_mode': None,\n",
       "  'vm_state': 'deleted'},\n",
       " 'message': None,\n",
       " 'project': '975c0a94b784483a885f4503f70af655',\n",
       " 'request': 'req-badd8ccb-3b9c-4b27-858c-b0e373c10d23',\n",
       " 'start_time': datetime.datetime(2015, 6, 17, 6, 58, 55),\n",
       " 'updated_at': None,\n",
       " 'user': '26f4125255b440c291355fbb62d2fc76'}"
      ]
     },
     "execution_count": 41,
     "metadata": {},
     "output_type": "execute_result"
    }
   ],
   "source": [
    "base = (nm.InstanceActions\n",
    "     .select()\n",
    "     .join(nm.Instances, on=(nm.Instances.uuid == nm.InstanceActions.instance_uuid))\n",
    "     .join(nm.InstanceActionsEvents, on=(nm.InstanceActions.id == nm.InstanceActionsEvents.action_id))\n",
    ")\n",
    "\n",
    "for x in base.limit(10).naive():\n",
    "    break\n",
    "\n",
    "short.model_to_dict(x)"
   ]
  },
  {
   "cell_type": "code",
   "execution_count": 45,
   "metadata": {
    "collapsed": true
   },
   "outputs": [],
   "source": []
  },
  {
   "cell_type": "code",
   "execution_count": 48,
   "metadata": {
    "collapsed": false
   },
   "outputs": [
    {
     "data": {
      "text/plain": [
       "<nova_models.Instances at 0x1094e1e10>"
      ]
     },
     "execution_count": 48,
     "metadata": {},
     "output_type": "execute_result"
    }
   ],
   "source": [
    "x.action.instance_uuid."
   ]
  },
  {
   "cell_type": "code",
   "execution_count": 54,
   "metadata": {
    "collapsed": false,
    "deletable": true,
    "editable": true
   },
   "outputs": [
    {
     "data": {
      "text/plain": [
       "85"
      ]
     },
     "execution_count": 54,
     "metadata": {},
     "output_type": "execute_result"
    }
   ],
   "source": [
    "base = (nm.InstanceActionsEvents\n",
    "    .select()\n",
    "    .join(nm.InstanceActions, on=(nm.InstanceActions.id == nm.InstanceActionsEvents.action_id))\n",
    "    .join(nm.Instances, on=(nm.Instances.uuid == nm.InstanceActions.instance_uuid))\n",
    "    .limit(1000)\n",
    ")\n",
    "\n",
    "query = base.where(nm.InstanceActionsEvents.created_at > datetime.datetime.now())\n",
    "\n",
    "results = []\n",
    "for iae in query:#.naive():\n",
    "    ia = iae.action\n",
    "    i = ia.instance_uuid\n",
    "    data = {\n",
    "        'uuid': i.uuid,\n",
    "        'memory_mb': i.memory_mb,\n",
    "        'vcpus': i.vcpus,\n",
    "        'created_at': ia.created_at,\n",
    "        'id': ia.id,\n",
    "        'event': iae.event,\n",
    "        'start_time': iae.start_time,\n",
    "        'finish_time': iae.finish_time,\n",
    "        'result': iae.result,\n",
    "    }\n",
    "    results.append(data)\n",
    "\n",
    "#short.model_to_dict(x)\n",
    "len(results)"
   ]
  },
  {
   "cell_type": "code",
   "execution_count": null,
   "metadata": {
    "collapsed": true
   },
   "outputs": [],
   "source": []
  }
 ],
 "metadata": {
  "kernelspec": {
   "display_name": "Once Upon A Time (3.6)",
   "language": "python",
   "name": "once"
  },
  "language_info": {
   "codemirror_mode": {
    "name": "ipython",
    "version": 3
   },
   "file_extension": ".py",
   "mimetype": "text/x-python",
   "name": "python",
   "nbconvert_exporter": "python",
   "pygments_lexer": "ipython3",
   "version": "3.6.2"
  }
 },
 "nbformat": 4,
 "nbformat_minor": 2
}
