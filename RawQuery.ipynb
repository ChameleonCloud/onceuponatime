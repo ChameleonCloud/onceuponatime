{
 "cells": [
  {
   "cell_type": "code",
   "execution_count": 30,
   "metadata": {
    "collapsed": false
   },
   "outputs": [],
   "source": [
    "import datetime\n",
    "\n",
    "from hammers import MySqlArgs, MySqlShim"
   ]
  },
  {
   "cell_type": "code",
   "execution_count": 18,
   "metadata": {
    "collapsed": false
   },
   "outputs": [],
   "source": [
    "db = MySqlShim(**{\n",
    "    'user': 'readonly',\n",
    "    'password': '',\n",
    "    'host': '127.0.0.1',\n",
    "    'port': 3306,\n",
    "})"
   ]
  },
  {
   "cell_type": "code",
   "execution_count": 21,
   "metadata": {
    "collapsed": false
   },
   "outputs": [],
   "source": [
    "for row in db.query(sql):\n",
    "    break"
   ]
  },
  {
   "cell_type": "code",
   "execution_count": 37,
   "metadata": {
    "collapsed": false
   },
   "outputs": [
    {
     "data": {
      "text/plain": [
       "'2017-07-19T14:23:44'"
      ]
     },
     "execution_count": 37,
     "metadata": {},
     "output_type": "execute_result"
    }
   ],
   "source": [
    "row['created_at'].isoformat()"
   ]
  },
  {
   "cell_type": "code",
   "execution_count": 34,
   "metadata": {
    "collapsed": false
   },
   "outputs": [
    {
     "data": {
      "text/plain": [
       "{'action_id': 46487,\n",
       " 'created_at': datetime.datetime(2017, 7, 19, 14, 23, 44),\n",
       " 'event': 'compute__do_build_and_run_instance',\n",
       " 'event_id': 43765,\n",
       " 'finish_time': datetime.datetime(2017, 7, 19, 14, 29, 40),\n",
       " 'memory_mb': 32000,\n",
       " 'result': 'Success',\n",
       " 'start_time': datetime.datetime(2017, 7, 19, 14, 23, 46),\n",
       " 'uuid': '37708045-5b77-4246-8d9d-74c1b975d622',\n",
       " 'vcpus': 4}"
      ]
     },
     "execution_count": 34,
     "metadata": {},
     "output_type": "execute_result"
    }
   ],
   "source": [
    "row"
   ]
  },
  {
   "cell_type": "code",
   "execution_count": 31,
   "metadata": {
    "collapsed": true
   },
   "outputs": [],
   "source": [
    "BASE_SQL = '''\n",
    "SELECT \n",
    "    i.uuid,\n",
    "    i.memory_mb,\n",
    "    i.vcpus,\n",
    "    ia.created_at,\n",
    "    ia.id AS action_id,\n",
    "    iae.id AS event_id,\n",
    "    iae.event,\n",
    "    iae.start_time,\n",
    "    iae.finish_time,\n",
    "    iae.result\n",
    "FROM\n",
    "    nova.instances AS i\n",
    "        JOIN\n",
    "    nova.instance_actions AS ia ON i.uuid = ia.instance_uuid\n",
    "        JOIN\n",
    "    nova.instance_actions_events AS iae ON ia.id = iae.action_id\n",
    "'''\n",
    "\n",
    "\n",
    "def events_after_id(db, last_event_id):\n",
    "    sql = BASE_SQL + '''\\\n",
    "    WHERE\n",
    "        iae.id >= %s\n",
    "    '''\n",
    "    return db.query(sql, args=[last_event_id], limit=1000)\n",
    "\n",
    "\n",
    "def events_date_range(db, from_date, to_date):\n",
    "    sql = BASE_SQL + '''\\\n",
    "    WHERE\n",
    "        ia.created_at >= %s\n",
    "    AND ia.created_at <= %s\n",
    "    '''\n",
    "    return db.query(sql, args=[from_date, to_date], limit=1000)"
   ]
  },
  {
   "cell_type": "code",
   "execution_count": 32,
   "metadata": {
    "collapsed": false
   },
   "outputs": [
    {
     "data": {
      "text/plain": [
       "[{'action_id': 46476,\n",
       "  'created_at': datetime.datetime(2017, 7, 19, 14, 0, 38),\n",
       "  'event': 'compute__do_build_and_run_instance',\n",
       "  'event_id': 43754,\n",
       "  'finish_time': datetime.datetime(2017, 7, 19, 14, 5, 13),\n",
       "  'memory_mb': 32000,\n",
       "  'result': 'Success',\n",
       "  'start_time': datetime.datetime(2017, 7, 19, 14, 0, 39),\n",
       "  'uuid': 'bcb7a5aa-4397-42a9-ae26-ff153b65e85e',\n",
       "  'vcpus': 4},\n",
       " {'action_id': 46477,\n",
       "  'created_at': datetime.datetime(2017, 7, 19, 14, 9, 23),\n",
       "  'event': 'compute__do_build_and_run_instance',\n",
       "  'event_id': 43755,\n",
       "  'finish_time': datetime.datetime(2017, 7, 19, 14, 14, 38),\n",
       "  'memory_mb': 32000,\n",
       "  'result': 'Success',\n",
       "  'start_time': datetime.datetime(2017, 7, 19, 14, 9, 25),\n",
       "  'uuid': 'ba62d56c-0254-453d-8c7b-683441b68bf1',\n",
       "  'vcpus': 4},\n",
       " {'action_id': 46478,\n",
       "  'created_at': datetime.datetime(2017, 7, 19, 14, 9, 23),\n",
       "  'event': 'compute__do_build_and_run_instance',\n",
       "  'event_id': 43756,\n",
       "  'finish_time': datetime.datetime(2017, 7, 19, 14, 14, 50),\n",
       "  'memory_mb': 32000,\n",
       "  'result': 'Success',\n",
       "  'start_time': datetime.datetime(2017, 7, 19, 14, 9, 25),\n",
       "  'uuid': 'a337e703-912c-4cc9-a110-5a6d69960217',\n",
       "  'vcpus': 4},\n",
       " {'action_id': 46479,\n",
       "  'created_at': datetime.datetime(2017, 7, 19, 14, 9, 23),\n",
       "  'event': 'compute__do_build_and_run_instance',\n",
       "  'event_id': 43757,\n",
       "  'finish_time': datetime.datetime(2017, 7, 19, 14, 14, 50),\n",
       "  'memory_mb': 32000,\n",
       "  'result': 'Success',\n",
       "  'start_time': datetime.datetime(2017, 7, 19, 14, 9, 25),\n",
       "  'uuid': 'b4d2ffed-7ddd-404e-843e-e25db7146aac',\n",
       "  'vcpus': 4},\n",
       " {'action_id': 46480,\n",
       "  'created_at': datetime.datetime(2017, 7, 19, 14, 23, 44),\n",
       "  'event': 'compute__do_build_and_run_instance',\n",
       "  'event_id': 43758,\n",
       "  'finish_time': datetime.datetime(2017, 7, 19, 14, 29, 13),\n",
       "  'memory_mb': 32000,\n",
       "  'result': 'Success',\n",
       "  'start_time': datetime.datetime(2017, 7, 19, 14, 23, 46),\n",
       "  'uuid': '3fff4c80-4dab-40dc-8a56-ade48c3e4996',\n",
       "  'vcpus': 4},\n",
       " {'action_id': 46481,\n",
       "  'created_at': datetime.datetime(2017, 7, 19, 14, 23, 44),\n",
       "  'event': 'compute__do_build_and_run_instance',\n",
       "  'event_id': 43759,\n",
       "  'finish_time': datetime.datetime(2017, 7, 19, 14, 29, 14),\n",
       "  'memory_mb': 32000,\n",
       "  'result': 'Success',\n",
       "  'start_time': datetime.datetime(2017, 7, 19, 14, 23, 46),\n",
       "  'uuid': 'edd1740d-3adc-43f9-9aed-387879a2bfda',\n",
       "  'vcpus': 4},\n",
       " {'action_id': 46482,\n",
       "  'created_at': datetime.datetime(2017, 7, 19, 14, 23, 44),\n",
       "  'event': 'compute__do_build_and_run_instance',\n",
       "  'event_id': 43760,\n",
       "  'finish_time': datetime.datetime(2017, 7, 19, 14, 29, 37),\n",
       "  'memory_mb': 32000,\n",
       "  'result': 'Success',\n",
       "  'start_time': datetime.datetime(2017, 7, 19, 14, 23, 46),\n",
       "  'uuid': '691e20c2-f5e3-4758-aeeb-a95a2dff5f0b',\n",
       "  'vcpus': 4},\n",
       " {'action_id': 46483,\n",
       "  'created_at': datetime.datetime(2017, 7, 19, 14, 23, 44),\n",
       "  'event': 'compute__do_build_and_run_instance',\n",
       "  'event_id': 43761,\n",
       "  'finish_time': datetime.datetime(2017, 7, 19, 14, 29, 17),\n",
       "  'memory_mb': 32000,\n",
       "  'result': 'Success',\n",
       "  'start_time': datetime.datetime(2017, 7, 19, 14, 23, 46),\n",
       "  'uuid': '0871b1ab-89cb-47ee-9768-fa9268e425e7',\n",
       "  'vcpus': 4},\n",
       " {'action_id': 46484,\n",
       "  'created_at': datetime.datetime(2017, 7, 19, 14, 23, 44),\n",
       "  'event': 'compute__do_build_and_run_instance',\n",
       "  'event_id': 43762,\n",
       "  'finish_time': datetime.datetime(2017, 7, 19, 14, 29, 25),\n",
       "  'memory_mb': 32000,\n",
       "  'result': 'Success',\n",
       "  'start_time': datetime.datetime(2017, 7, 19, 14, 23, 46),\n",
       "  'uuid': 'fdd45974-f140-43fc-9528-b8ec158e038d',\n",
       "  'vcpus': 4},\n",
       " {'action_id': 46485,\n",
       "  'created_at': datetime.datetime(2017, 7, 19, 14, 23, 44),\n",
       "  'event': 'compute__do_build_and_run_instance',\n",
       "  'event_id': 43763,\n",
       "  'finish_time': datetime.datetime(2017, 7, 19, 14, 29, 21),\n",
       "  'memory_mb': 32000,\n",
       "  'result': 'Success',\n",
       "  'start_time': datetime.datetime(2017, 7, 19, 14, 23, 46),\n",
       "  'uuid': 'd4808cc8-ee5f-4b93-b7b5-050d8b7f8d91',\n",
       "  'vcpus': 4}]"
      ]
     },
     "execution_count": 32,
     "metadata": {},
     "output_type": "execute_result"
    }
   ],
   "source": [
    "now = datetime.datetime.now()\n",
    "delta = datetime.timedelta(hours=4)\n",
    "list(events_date_range(db, now - delta, now + delta))[:10]"
   ]
  },
  {
   "cell_type": "code",
   "execution_count": 33,
   "metadata": {
    "collapsed": false
   },
   "outputs": [
    {
     "data": {
      "text/plain": [
       "[{'action_id': 46519,\n",
       "  'created_at': datetime.datetime(2017, 7, 19, 15, 54, 45),\n",
       "  'event': 'compute__do_build_and_run_instance',\n",
       "  'event_id': 43800,\n",
       "  'finish_time': datetime.datetime(2017, 7, 19, 16, 1, 21),\n",
       "  'memory_mb': 32000,\n",
       "  'result': 'Success',\n",
       "  'start_time': datetime.datetime(2017, 7, 19, 15, 54, 47),\n",
       "  'uuid': 'fe7fc4ba-d6fd-4066-9fa5-9fa1e9b58e21',\n",
       "  'vcpus': 4},\n",
       " {'action_id': 46520,\n",
       "  'created_at': datetime.datetime(2017, 7, 19, 15, 55, 28),\n",
       "  'event': 'compute__do_build_and_run_instance',\n",
       "  'event_id': 43801,\n",
       "  'finish_time': datetime.datetime(2017, 7, 19, 16, 1, 21),\n",
       "  'memory_mb': 32000,\n",
       "  'result': 'Success',\n",
       "  'start_time': datetime.datetime(2017, 7, 19, 15, 55, 29),\n",
       "  'uuid': '17ce6233-0b8e-4c31-9c72-03df7abae7ee',\n",
       "  'vcpus': 4},\n",
       " {'action_id': 46521,\n",
       "  'created_at': datetime.datetime(2017, 7, 19, 15, 58, 37),\n",
       "  'event': 'rebuild_server',\n",
       "  'event_id': 43802,\n",
       "  'finish_time': datetime.datetime(2017, 7, 19, 15, 58, 37),\n",
       "  'memory_mb': 32000,\n",
       "  'result': 'Success',\n",
       "  'start_time': datetime.datetime(2017, 7, 19, 15, 58, 37),\n",
       "  'uuid': '31385ccd-b16d-4356-b0a1-6801a349d903',\n",
       "  'vcpus': 4},\n",
       " {'action_id': 46521,\n",
       "  'created_at': datetime.datetime(2017, 7, 19, 15, 58, 37),\n",
       "  'event': 'compute_rebuild_instance',\n",
       "  'event_id': 43803,\n",
       "  'finish_time': datetime.datetime(2017, 7, 19, 16, 5, 49),\n",
       "  'memory_mb': 32000,\n",
       "  'result': 'Success',\n",
       "  'start_time': datetime.datetime(2017, 7, 19, 15, 58, 37),\n",
       "  'uuid': '31385ccd-b16d-4356-b0a1-6801a349d903',\n",
       "  'vcpus': 4},\n",
       " {'action_id': 46522,\n",
       "  'created_at': datetime.datetime(2017, 7, 19, 16, 1, 25),\n",
       "  'event': 'compute__do_build_and_run_instance',\n",
       "  'event_id': 43804,\n",
       "  'finish_time': datetime.datetime(2017, 7, 19, 16, 6, 50),\n",
       "  'memory_mb': 32000,\n",
       "  'result': 'Success',\n",
       "  'start_time': datetime.datetime(2017, 7, 19, 16, 1, 26),\n",
       "  'uuid': '03ccc671-2d0c-4b29-be16-6a29e8ec1db2',\n",
       "  'vcpus': 4},\n",
       " {'action_id': 46523,\n",
       "  'created_at': datetime.datetime(2017, 7, 19, 16, 1, 27),\n",
       "  'event': 'compute__do_build_and_run_instance',\n",
       "  'event_id': 43805,\n",
       "  'finish_time': datetime.datetime(2017, 7, 19, 16, 6, 52),\n",
       "  'memory_mb': 32000,\n",
       "  'result': 'Success',\n",
       "  'start_time': datetime.datetime(2017, 7, 19, 16, 1, 28),\n",
       "  'uuid': 'd468d680-cebb-46fe-a263-cc94d0f23a02',\n",
       "  'vcpus': 4},\n",
       " {'action_id': 46524,\n",
       "  'created_at': datetime.datetime(2017, 7, 19, 16, 1, 28),\n",
       "  'event': 'compute__do_build_and_run_instance',\n",
       "  'event_id': 43806,\n",
       "  'finish_time': datetime.datetime(2017, 7, 19, 16, 9),\n",
       "  'memory_mb': 32000,\n",
       "  'result': 'Success',\n",
       "  'start_time': datetime.datetime(2017, 7, 19, 16, 1, 30),\n",
       "  'uuid': '36d5119e-b394-4ad1-91f0-255b81019886',\n",
       "  'vcpus': 4},\n",
       " {'action_id': 46525,\n",
       "  'created_at': datetime.datetime(2017, 7, 19, 16, 1, 28),\n",
       "  'event': 'compute__do_build_and_run_instance',\n",
       "  'event_id': 43807,\n",
       "  'finish_time': datetime.datetime(2017, 7, 19, 16, 6, 58),\n",
       "  'memory_mb': 32000,\n",
       "  'result': 'Success',\n",
       "  'start_time': datetime.datetime(2017, 7, 19, 16, 1, 30),\n",
       "  'uuid': 'bb2ff0ae-77eb-451e-aeb5-39a23dce2be0',\n",
       "  'vcpus': 4},\n",
       " {'action_id': 46526,\n",
       "  'created_at': datetime.datetime(2017, 7, 19, 16, 1, 29),\n",
       "  'event': 'compute__do_build_and_run_instance',\n",
       "  'event_id': 43808,\n",
       "  'finish_time': datetime.datetime(2017, 7, 19, 16, 9, 10),\n",
       "  'memory_mb': 32000,\n",
       "  'result': 'Success',\n",
       "  'start_time': datetime.datetime(2017, 7, 19, 16, 1, 31),\n",
       "  'uuid': 'd95d2237-fd17-4c2e-aa89-7ee1493c8373',\n",
       "  'vcpus': 4},\n",
       " {'action_id': 46527,\n",
       "  'created_at': datetime.datetime(2017, 7, 19, 16, 1, 31),\n",
       "  'event': 'compute__do_build_and_run_instance',\n",
       "  'event_id': 43809,\n",
       "  'finish_time': datetime.datetime(2017, 7, 19, 16, 6, 48),\n",
       "  'memory_mb': 32000,\n",
       "  'result': 'Success',\n",
       "  'start_time': datetime.datetime(2017, 7, 19, 16, 1, 32),\n",
       "  'uuid': '660b9269-79ee-41d0-b5a4-60a04aafc73d',\n",
       "  'vcpus': 4}]"
      ]
     },
     "execution_count": 33,
     "metadata": {},
     "output_type": "execute_result"
    }
   ],
   "source": [
    "list(events_after(db, 43800))[:10]"
   ]
  },
  {
   "cell_type": "code",
   "execution_count": null,
   "metadata": {
    "collapsed": true
   },
   "outputs": [],
   "source": []
  }
 ],
 "metadata": {
  "kernelspec": {
   "display_name": "Once Upon A Time (3.6)",
   "language": "python",
   "name": "once"
  },
  "language_info": {
   "codemirror_mode": {
    "name": "ipython",
    "version": 3
   },
   "file_extension": ".py",
   "mimetype": "text/x-python",
   "name": "python",
   "nbconvert_exporter": "python",
   "pygments_lexer": "ipython3",
   "version": "3.6.2"
  }
 },
 "nbformat": 4,
 "nbformat_minor": 2
}
